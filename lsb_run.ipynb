{
 "cells": [
  {
   "cell_type": "code",
   "execution_count": 1,
   "id": "8efd2127",
   "metadata": {
    "ExecuteTime": {
     "end_time": "2023-01-31T04:21:10.134658Z",
     "start_time": "2023-01-31T04:21:09.342343Z"
    }
   },
   "outputs": [],
   "source": [
    "import numpy as np\n",
    "from scipy import ndimage\n",
    "from scipy.ndimage import binary_fill_holes\n",
    "from astropy.io import fits\n",
    "from tqdm import tqdm\n",
    "\n",
    "def get_bright_pixels(img:np.array, threshold:float = 255)->np.array:\n",
    "    \"\"\"\n",
    "    set to zero all pixels smaller than threshold\n",
    "    \"\"\"\n",
    "    \n",
    "    return np.where(img < threshold, 0, img)\n",
    "\n",
    "def get_bright_objects_labels(labeled_img:np.array, bright_objects_slices:list)->list:\n",
    "    \"\"\"\n",
    "    takes the labeled image and bright object slices and return a set with all the objects id in the labeled img\n",
    "    corresponding to the bright objects slices locations\n",
    "    \"\"\" \n",
    "    obj_ids = [set(labeled_img[s].flatten()) for s in bright_objects_slices]\n",
    "    set_union = set().union(*obj_ids)\n",
    "    set_union.remove(0)\n",
    "    \n",
    "    return list(set_union)\n",
    "\n",
    "def get_mask(image:np.array, pixel_threshold:float)->np.array:\n",
    "    \"\"\"\n",
    "    returns a mask for img using pixel_threshold as threshold for detecting bright objects\n",
    "    \"\"\"\n",
    "    labeled_img,_ = ndimage.label(image)\n",
    "    structure = ndimage.generate_binary_structure(2,2)\n",
    "    \n",
    "    bright_objects = get_bright_pixels(image,pixel_threshold)\n",
    "    labeled_bright_objects,_ = ndimage.label(bright_objects, structure)\n",
    "    bright_objects_slices = ndimage.find_objects(labeled_bright_objects)\n",
    "    \n",
    "    mask = labeled_img.copy()\n",
    "    bright_obj_ids = get_bright_objects_labels(labeled_img, bright_objects_slices)\n",
    "    out = np.where(np.isin(mask,bright_obj_ids),1,0)\n",
    "    \n",
    "    return 1-binary_fill_holes(out)\n",
    "\n",
    "\n",
    "def apply_masks(fits_file:list, imgs:list, fields:str, pixel_threshold:float) -> dict:\n",
    "    masked_fields = {}\n",
    "    for f,im,field in zip(fits_file, imgs,fields):\n",
    "        masked_field = []\n",
    "        for i in range(len(f)):\n",
    "            mask = get_mask(im[:,:,i],pixel_threshold=pixel_threshold)\n",
    "            data = f[0].data*mask\n",
    "            header = f[0].header\n",
    "            masked_field.append((data, header))\n",
    "        masked_fields[field] = masked_field\n",
    "    \n",
    "    return masked_fields\n",
    "            "
   ]
  },
  {
   "cell_type": "code",
   "execution_count": 2,
   "id": "9a98ed76",
   "metadata": {
    "ExecuteTime": {
     "end_time": "2023-01-31T04:22:21.490222Z",
     "start_time": "2023-01-31T04:21:10.137028Z"
    }
   },
   "outputs": [
    {
     "name": "stdout",
     "output_type": "stream",
     "text": [
      "2023-01-30 11:21:12 PM [INFO] - __main__ :Loading fits files ...\n"
     ]
    },
    {
     "name": "stderr",
     "output_type": "stream",
     "text": [
      "100%|████████████████████████████████████████████| 2/2 [00:00<00:00, 105.39it/s]"
     ]
    },
    {
     "name": "stdout",
     "output_type": "stream",
     "text": [
      "2023-01-30 11:21:12 PM [INFO] - __main__ :Creating RGB images ...\n",
      "2023-01-30 11:21:12 PM [INFO] - img_processing :Processing Fits ...\n"
     ]
    },
    {
     "name": "stderr",
     "output_type": "stream",
     "text": [
      "\n",
      "100%|█████████████████████████████████████████████| 2/2 [00:28<00:00, 14.38s/it]\n"
     ]
    }
   ],
   "source": [
    "import numpy as np\n",
    "import sys\n",
    "import logging\n",
    "import glob\n",
    "import matplotlib.pyplot as plt\n",
    "\n",
    "from astropy.io import fits\n",
    "from tqdm import tqdm\n",
    "\n",
    "from config import FIELDS, DATA_DIR, IMAGES_DIR, BANDS_TO_RGB, MASK_PIXEL_THRESHOLD\n",
    "from download import download_fields\n",
    "from img_processing import fits2rgb_processing\n",
    "from utils import splus_conn, load_fits\n",
    "\n",
    "file_handler = logging.FileHandler(filename=\"log.log\", mode = \"w\")\n",
    "stdout_handler = logging.StreamHandler(stream=sys.stdout)\n",
    "logging.basicConfig(level = logging.INFO,\n",
    "                    format=\"%(asctime)s [%(levelname)s] - %(name)s :%(message)s\",\n",
    "                    datefmt=\"%Y-%m-%d %I:%M:%S %p\",\n",
    "                    handlers=[stdout_handler, file_handler])\n",
    "\n",
    "logger = logging.getLogger(__name__)\n",
    "\n",
    "\n",
    "# logger.info(\"Downloading data...\")\n",
    "# splus_connection = splus_conn()\n",
    "# download_fields(fields = FIELDS, bands = ['R','G','I'], save_path = DATA_DIR, splus_connection=splus_connection)\n",
    "\n",
    "logger.info(\"Loading fits files ...\")\n",
    "fits_files = glob.glob(DATA_DIR+\"*.fits\")\n",
    "fields = list(set([f.replace(DATA_DIR,\"\").split(\"_\")[0] for f in fits_files]))\n",
    "\n",
    "fits_data = []\n",
    "for field in tqdm(fields):\n",
    "        fits_data.append([load_fits(DATA_DIR+f\"{field}_band_{band}.fits\") for band in BANDS_TO_RGB])\n",
    "\n",
    "logger.info(\"Creating RGB images ...\")\n",
    "imgs = fits2rgb_processing(fits_data = fits_data,Q = 8, stretch = 3)\n"
   ]
  },
  {
   "cell_type": "code",
   "execution_count": 3,
   "id": "dbac55f3",
   "metadata": {
    "ExecuteTime": {
     "end_time": "2023-01-31T04:24:36.063740Z",
     "start_time": "2023-01-31T04:22:21.507508Z"
    }
   },
   "outputs": [
    {
     "name": "stdout",
     "output_type": "stream",
     "text": [
      "2023-01-30 11:22:21 PM [INFO] - __main__ :Applying masks ...\n",
      "2023-01-30 11:22:21 PM [INFO] - __main__ :Masking: STRIPE82-0113\n",
      "2023-01-30 11:23:26 PM [INFO] - __main__ :Masking: SPLUS-s28s34\n"
     ]
    }
   ],
   "source": [
    "logger.info(\"Applying masks ...\")\n",
    "for i in range(len(fits_data)):\n",
    "    logger.info(f\"Masking: {fields[i]}\")\n",
    "    masked = apply_masks([fits_data[i]], [imgs[i]], [fields[i]], pixel_threshold= MASK_PIXEL_THRESHOLD)\n",
    "    for f,m in masked.items():\n",
    "        for data,band in zip(m,BANDS_TO_RGB):\n",
    "            savep = DATA_DIR + f + f\"_{band}_masked.fits\"\n",
    "            \n",
    "            fits.writeto(DATA_DIR + f + f\"_{band}_masked.fits\", data[0], data[1], overwrite = True) \n"
   ]
  },
  {
   "cell_type": "code",
   "execution_count": 29,
   "id": "62ed389e",
   "metadata": {
    "ExecuteTime": {
     "end_time": "2023-01-31T03:49:41.444020Z",
     "start_time": "2023-01-31T03:49:41.335683Z"
    }
   },
   "outputs": [
    {
     "data": {
      "text/plain": [
       "255"
      ]
     },
     "execution_count": 29,
     "metadata": {},
     "output_type": "execute_result"
    }
   ],
   "source": [
    "imgs[0][:,:,0].max()"
   ]
  },
  {
   "cell_type": "code",
   "execution_count": 5,
   "id": "51539820",
   "metadata": {
    "ExecuteTime": {
     "end_time": "2023-01-31T03:53:10.588735Z",
     "start_time": "2023-01-31T03:52:53.048948Z"
    }
   },
   "outputs": [],
   "source": [
    "m = get_mask(imgs[0][:,:,1], MASK_PIXEL_THRESHOLD)"
   ]
  },
  {
   "cell_type": "code",
   "execution_count": 4,
   "id": "547cd4d3",
   "metadata": {
    "ExecuteTime": {
     "end_time": "2023-01-31T03:52:18.859728Z",
     "start_time": "2023-01-31T03:52:15.024003Z"
    }
   },
   "outputs": [
    {
     "data": {
      "text/plain": [
       "<matplotlib.image.AxesImage at 0x7fdf1a1ab070>"
      ]
     },
     "execution_count": 4,
     "metadata": {},
     "output_type": "execute_result"
    },
    {
     "data": {
      "image/png": "[encoded data removed]",
      "text/plain": [
       "<Figure size 640x480 with 1 Axes>"
      ]
     },
     "metadata": {},
     "output_type": "display_data"
    }
   ],
   "source": [
    "plt.imshow(m, cmap=\"gray_r\")"
   ]
  },
  {
   "cell_type": "code",
   "execution_count": 6,
   "id": "221a76ce",
   "metadata": {
    "ExecuteTime": {
     "end_time": "2023-01-31T04:08:08.114654Z",
     "start_time": "2023-01-31T04:08:08.077354Z"
    }
   },
   "outputs": [
    {
     "data": {
      "text/plain": [
       "{'SPLUS-s28s34': [(array([[0., 0., 0., ..., 0., 0., 0.],\n",
       "          [0., 0., 0., ..., 0., 0., 0.],\n",
       "          [0., 0., 0., ..., 0., 0., 0.],\n",
       "          ...,\n",
       "          [0., 0., 0., ..., 0., 0., 0.],\n",
       "          [0., 0., 0., ..., 0., 0., 0.],\n",
       "          [0., 0., 0., ..., 0., 0., 0.]]),\n",
       "   SIMPLE  =                    T / conforms to FITS standard                      \n",
       "   BITPIX  =                  -32 / array data type                                \n",
       "   NAXIS   =                    2 / number of array dimensions                     \n",
       "   NAXIS1  =                11000                                                  \n",
       "   NAXIS2  =                11000                                                  \n",
       "   EQUINOX =        2000.00000000 / Mean equinox                                   \n",
       "   MJD-OBS =   5.841000000000E+04 / Modified Julian date at start                  \n",
       "   RADESYS = 'ICRS    '           / Astrometric system                             \n",
       "   CTYPE1  = 'RA---TAN'           / WCS projection type for this axis              \n",
       "   CUNIT1  = 'deg     '           / Axis unit                                      \n",
       "   CRVAL1  =   5.500000000000E+01 / World coordinate on this axis                  \n",
       "   CRPIX1  =   5.500500000000E+03 / Reference pixel on this axis                   \n",
       "   CD1_1   =  -1.527777777778E-04 / Linear projection matrix                       \n",
       "   CD1_2   =   0.000000000000E+00 / Linear projection matrix                       \n",
       "   CTYPE2  = 'DEC--TAN'           / WCS projection type for this axis              \n",
       "   CUNIT2  = 'deg     '           / Axis unit                                      \n",
       "   CRVAL2  =  -3.619109661110E+01 / World coordinate on this axis                  \n",
       "   CRPIX2  =   5.500500000000E+03 / Reference pixel on this axis                   \n",
       "   CD2_1   =   0.000000000000E+00 / Linear projection matrix                       \n",
       "   CD2_2   =   1.527777777778E-04 / Linear projection matrix                       \n",
       "   EXPTIME =                  1.0 / Normalized exposure time                       \n",
       "   GAIN    =   1.148191510256E+02 / Maximum equivalent gain (e-/ADU)               \n",
       "   SATURATE=   1.603112439229E+03 / Saturation Level (ADU)                         \n",
       "   COMMENT                                                                         \n",
       "   SOFTNAME= 'SWarp   '           / The software that processed those data         \n",
       "   SOFTVERS= '2.38.0  '           / Version of the software                        \n",
       "   SOFTDATE= '2017-01-17'         / Release date of the software                   \n",
       "   SOFTAUTH= '2010-2012 IAP/CNRS/UPMC' / Maintainer of the software                \n",
       "   SOFTINST= 'IAP  http://www.iap.fr' / Institute                                  \n",
       "   COMMENT                                                                         \n",
       "   AUTHOR  = 'jype    '           / Who ran the software                           \n",
       "   ORIGIN  = 't80s-jype4'         / Where it was done                              \n",
       "   DATE    = '2019-03-29T20:45:05' / When it was started (GMT)                     \n",
       "   COMBINET= 'WEIGHTED'           / COMBINE_TYPE config parameter for SWarp        \n",
       "   COMMENT                                                                         \n",
       "   COMMENT  Propagated FITS keywords                                               \n",
       "   OBJECT  = 'SPLUS-s28s34'       / name of observed object                        \n",
       "   TELESCOP= 'T80     '           / Telescope Model                                \n",
       "   INSTRUME= 'T80Cam  '           / Custom. Name of instrument                     \n",
       "   FILTER  = 'R       '           / Filter used for this observation               \n",
       "   COMMENT                                                                         \n",
       "   COMMENT  Axis-dependent config parameters                                       \n",
       "   RESAMPT1= 'LANCZOS3'           / RESAMPLING_TYPE config parameter               \n",
       "   CENTERT1= 'MANUAL  '           / CENTER_TYPE config parameter                   \n",
       "   PSCALET1= 'MANUAL  '           / PIXELSCALE_TYPE config parameter               \n",
       "   RESAMPT2= 'LANCZOS3'           / RESAMPLING_TYPE config parameter               \n",
       "   CENTERT2= 'MANUAL  '           / CENTER_TYPE config parameter                   \n",
       "   PSCALET2= 'MANUAL  '           / PIXELSCALE_TYPE config parameter               \n",
       "           STATS 2019-03-29T17:45:15.621765                                        \n",
       "   HIERARCH OAJ QC NCMODE = 0.0 / Mode (ADU)                                       \n",
       "   HIERARCH OAJ QC NCMIDPT = 0.0 / Level estim (ADU)                               \n",
       "   HIERARCH OAJ QC NCMIDRMS = 0.0055 / rms level (ADU)                             \n",
       "   HIERARCH OAJ QC NCNOISE = 0.1802 / Noise estim (ADU)                            \n",
       "   HIERARCH OAJ QC NCNOIRMS = 0.009299999999999999 / rms noise estim (ADU)         \n",
       "           FWHM ESTIM 2019-03-29T17:45:40.729357                                   \n",
       "   HIERARCH OAJ PRO FWHMSEXT = 1.783 / FWHM arcsec estimated with SE               \n",
       "   HIERARCH OAJ PRO FWHMSRMS = 0.108 / rms in FWHM with SE                         \n",
       "   HIERARCH OAJ PRO FWHMMEAN = 1.640341997146607 / PSFex FWHM                      \n",
       "   HIERARCH OAJ PRO FWHMBETA = 2.927279949188232 / PSFex beta                      \n",
       "   HIERARCH OAJ PRO FWHMnstars = 408 / PSFex nstars                                \n",
       "   HIERARCH OAJ PRO Ellipmean = 0.02356320060789585 / PSFex Ellip                  \n",
       "   PIXSCALE=                 0.55                                                  \n",
       "   FILENAME= 'SPLUS-s28s34_R_swp.fits'                                             \n",
       "   NCOMBINE=                    3                                                  \n",
       "   TEXPOSED=                120.0                                                  \n",
       "   EFECTIME=    119.6285565182266                                                  \n",
       "   TEXPSUM =                120.0 / Maximum equivalent exposure time (s)           \n",
       "   HIERARCH OAJ PRO PIPVERS = '0.9.9   '                                           \n",
       "   HIERARCH OAJ PRO REFIMAGE = 'SPLUS-20181019-064319_proc' / Reference image for s\n",
       "   HIERARCH OAJ PRO REFAIRMASS = 1.005896380650128 / Reference image airmass       \n",
       "   HIERARCH OAJ PRO REFDATEOBS = '2018-10-19T06:42:15.668000' / Reference image dat\n",
       "   HIERARCH OAJ PRO SWCMB1 = 'SPLUS-20181019-064039_proc'                          \n",
       "   HIERARCH OAJ PRO SWSCALE1 = 0.02500526803915                                    \n",
       "   HIERARCH OAJ PRO SWCMB2 = 'SPLUS-20181019-064159_proc'                          \n",
       "   HIERARCH OAJ PRO SWSCALE2 = 0.02494600020134                                    \n",
       "   HIERARCH OAJ PRO SWCMB3 = 'SPLUS-20181019-064319_proc'                          \n",
       "   HIERARCH OAJ PRO SWSCALE3 = 0.02485963616625                                    \n",
       "   HISTORY Image was compressed by CFITSIO using scaled integer quantization:      \n",
       "   HISTORY   q = 4.000000 / quantized level scaling parameter                      \n",
       "   HISTORY 'SUBTRACTIVE_DITHER_1' / Pixel Quantization Algorithm                   \n",
       "   ZDITHER0=                 2588 / dithering offset when quantizing floats        \n",
       "   CHECKSUM= 'mLTknLTkmLTkmLTk'   / HDU checksum updated 2019-03-29T17:47:09       \n",
       "   DATASUM = '1520388348'         / data unit checksum updated 2019-03-29T17:47:17 ),\n",
       "  (array([[0., 0., 0., ..., 0., 0., 0.],\n",
       "          [0., 0., 0., ..., 0., 0., 0.],\n",
       "          [0., 0., 0., ..., 0., 0., 0.],\n",
       "          ...,\n",
       "          [0., 0., 0., ..., 0., 0., 0.],\n",
       "          [0., 0., 0., ..., 0., 0., 0.],\n",
       "          [0., 0., 0., ..., 0., 0., 0.]]),\n",
       "   SIMPLE  =                    T / conforms to FITS standard                      \n",
       "   BITPIX  =                  -32 / array data type                                \n",
       "   NAXIS   =                    2 / number of array dimensions                     \n",
       "   NAXIS1  =                11000                                                  \n",
       "   NAXIS2  =                11000                                                  \n",
       "   EQUINOX =        2000.00000000 / Mean equinox                                   \n",
       "   MJD-OBS =   5.841000000000E+04 / Modified Julian date at start                  \n",
       "   RADESYS = 'ICRS    '           / Astrometric system                             \n",
       "   CTYPE1  = 'RA---TAN'           / WCS projection type for this axis              \n",
       "   CUNIT1  = 'deg     '           / Axis unit                                      \n",
       "   CRVAL1  =   5.500000000000E+01 / World coordinate on this axis                  \n",
       "   CRPIX1  =   5.500500000000E+03 / Reference pixel on this axis                   \n",
       "   CD1_1   =  -1.527777777778E-04 / Linear projection matrix                       \n",
       "   CD1_2   =   0.000000000000E+00 / Linear projection matrix                       \n",
       "   CTYPE2  = 'DEC--TAN'           / WCS projection type for this axis              \n",
       "   CUNIT2  = 'deg     '           / Axis unit                                      \n",
       "   CRVAL2  =  -3.619109661110E+01 / World coordinate on this axis                  \n",
       "   CRPIX2  =   5.500500000000E+03 / Reference pixel on this axis                   \n",
       "   CD2_1   =   0.000000000000E+00 / Linear projection matrix                       \n",
       "   CD2_2   =   1.527777777778E-04 / Linear projection matrix                       \n",
       "   EXPTIME =                  1.0 / Normalized exposure time                       \n",
       "   GAIN    =   1.148191510256E+02 / Maximum equivalent gain (e-/ADU)               \n",
       "   SATURATE=   1.603112439229E+03 / Saturation Level (ADU)                         \n",
       "   COMMENT                                                                         \n",
       "   SOFTNAME= 'SWarp   '           / The software that processed those data         \n",
       "   SOFTVERS= '2.38.0  '           / Version of the software                        \n",
       "   SOFTDATE= '2017-01-17'         / Release date of the software                   \n",
       "   SOFTAUTH= '2010-2012 IAP/CNRS/UPMC' / Maintainer of the software                \n",
       "   SOFTINST= 'IAP  http://www.iap.fr' / Institute                                  \n",
       "   COMMENT                                                                         \n",
       "   AUTHOR  = 'jype    '           / Who ran the software                           \n",
       "   ORIGIN  = 't80s-jype4'         / Where it was done                              \n",
       "   DATE    = '2019-03-29T20:45:05' / When it was started (GMT)                     \n",
       "   COMBINET= 'WEIGHTED'           / COMBINE_TYPE config parameter for SWarp        \n",
       "   COMMENT                                                                         \n",
       "   COMMENT  Propagated FITS keywords                                               \n",
       "   OBJECT  = 'SPLUS-s28s34'       / name of observed object                        \n",
       "   TELESCOP= 'T80     '           / Telescope Model                                \n",
       "   INSTRUME= 'T80Cam  '           / Custom. Name of instrument                     \n",
       "   FILTER  = 'R       '           / Filter used for this observation               \n",
       "   COMMENT                                                                         \n",
       "   COMMENT  Axis-dependent config parameters                                       \n",
       "   RESAMPT1= 'LANCZOS3'           / RESAMPLING_TYPE config parameter               \n",
       "   CENTERT1= 'MANUAL  '           / CENTER_TYPE config parameter                   \n",
       "   PSCALET1= 'MANUAL  '           / PIXELSCALE_TYPE config parameter               \n",
       "   RESAMPT2= 'LANCZOS3'           / RESAMPLING_TYPE config parameter               \n",
       "   CENTERT2= 'MANUAL  '           / CENTER_TYPE config parameter                   \n",
       "   PSCALET2= 'MANUAL  '           / PIXELSCALE_TYPE config parameter               \n",
       "           STATS 2019-03-29T17:45:15.621765                                        \n",
       "   HIERARCH OAJ QC NCMODE = 0.0 / Mode (ADU)                                       \n",
       "   HIERARCH OAJ QC NCMIDPT = 0.0 / Level estim (ADU)                               \n",
       "   HIERARCH OAJ QC NCMIDRMS = 0.0055 / rms level (ADU)                             \n",
       "   HIERARCH OAJ QC NCNOISE = 0.1802 / Noise estim (ADU)                            \n",
       "   HIERARCH OAJ QC NCNOIRMS = 0.009299999999999999 / rms noise estim (ADU)         \n",
       "           FWHM ESTIM 2019-03-29T17:45:40.729357                                   \n",
       "   HIERARCH OAJ PRO FWHMSEXT = 1.783 / FWHM arcsec estimated with SE               \n",
       "   HIERARCH OAJ PRO FWHMSRMS = 0.108 / rms in FWHM with SE                         \n",
       "   HIERARCH OAJ PRO FWHMMEAN = 1.640341997146607 / PSFex FWHM                      \n",
       "   HIERARCH OAJ PRO FWHMBETA = 2.927279949188232 / PSFex beta                      \n",
       "   HIERARCH OAJ PRO FWHMnstars = 408 / PSFex nstars                                \n",
       "   HIERARCH OAJ PRO Ellipmean = 0.02356320060789585 / PSFex Ellip                  \n",
       "   PIXSCALE=                 0.55                                                  \n",
       "   FILENAME= 'SPLUS-s28s34_R_swp.fits'                                             \n",
       "   NCOMBINE=                    3                                                  \n",
       "   TEXPOSED=                120.0                                                  \n",
       "   EFECTIME=    119.6285565182266                                                  \n",
       "   TEXPSUM =                120.0 / Maximum equivalent exposure time (s)           \n",
       "   HIERARCH OAJ PRO PIPVERS = '0.9.9   '                                           \n",
       "   HIERARCH OAJ PRO REFIMAGE = 'SPLUS-20181019-064319_proc' / Reference image for s\n",
       "   HIERARCH OAJ PRO REFAIRMASS = 1.005896380650128 / Reference image airmass       \n",
       "   HIERARCH OAJ PRO REFDATEOBS = '2018-10-19T06:42:15.668000' / Reference image dat\n",
       "   HIERARCH OAJ PRO SWCMB1 = 'SPLUS-20181019-064039_proc'                          \n",
       "   HIERARCH OAJ PRO SWSCALE1 = 0.02500526803915                                    \n",
       "   HIERARCH OAJ PRO SWCMB2 = 'SPLUS-20181019-064159_proc'                          \n",
       "   HIERARCH OAJ PRO SWSCALE2 = 0.02494600020134                                    \n",
       "   HIERARCH OAJ PRO SWCMB3 = 'SPLUS-20181019-064319_proc'                          \n",
       "   HIERARCH OAJ PRO SWSCALE3 = 0.02485963616625                                    \n",
       "   HISTORY Image was compressed by CFITSIO using scaled integer quantization:      \n",
       "   HISTORY   q = 4.000000 / quantized level scaling parameter                      \n",
       "   HISTORY 'SUBTRACTIVE_DITHER_1' / Pixel Quantization Algorithm                   \n",
       "   ZDITHER0=                 2588 / dithering offset when quantizing floats        \n",
       "   CHECKSUM= 'mLTknLTkmLTkmLTk'   / HDU checksum updated 2019-03-29T17:47:09       \n",
       "   DATASUM = '1520388348'         / data unit checksum updated 2019-03-29T17:47:17 ),\n",
       "  (array([[0., 0., 0., ..., 0., 0., 0.],\n",
       "          [0., 0., 0., ..., 0., 0., 0.],\n",
       "          [0., 0., 0., ..., 0., 0., 0.],\n",
       "          ...,\n",
       "          [0., 0., 0., ..., 0., 0., 0.],\n",
       "          [0., 0., 0., ..., 0., 0., 0.],\n",
       "          [0., 0., 0., ..., 0., 0., 0.]]),\n",
       "   SIMPLE  =                    T / conforms to FITS standard                      \n",
       "   BITPIX  =                  -32 / array data type                                \n",
       "   NAXIS   =                    2 / number of array dimensions                     \n",
       "   NAXIS1  =                11000                                                  \n",
       "   NAXIS2  =                11000                                                  \n",
       "   EQUINOX =        2000.00000000 / Mean equinox                                   \n",
       "   MJD-OBS =   5.841000000000E+04 / Modified Julian date at start                  \n",
       "   RADESYS = 'ICRS    '           / Astrometric system                             \n",
       "   CTYPE1  = 'RA---TAN'           / WCS projection type for this axis              \n",
       "   CUNIT1  = 'deg     '           / Axis unit                                      \n",
       "   CRVAL1  =   5.500000000000E+01 / World coordinate on this axis                  \n",
       "   CRPIX1  =   5.500500000000E+03 / Reference pixel on this axis                   \n",
       "   CD1_1   =  -1.527777777778E-04 / Linear projection matrix                       \n",
       "   CD1_2   =   0.000000000000E+00 / Linear projection matrix                       \n",
       "   CTYPE2  = 'DEC--TAN'           / WCS projection type for this axis              \n",
       "   CUNIT2  = 'deg     '           / Axis unit                                      \n",
       "   CRVAL2  =  -3.619109661110E+01 / World coordinate on this axis                  \n",
       "   CRPIX2  =   5.500500000000E+03 / Reference pixel on this axis                   \n",
       "   CD2_1   =   0.000000000000E+00 / Linear projection matrix                       \n",
       "   CD2_2   =   1.527777777778E-04 / Linear projection matrix                       \n",
       "   EXPTIME =                  1.0 / Normalized exposure time                       \n",
       "   GAIN    =   1.148191510256E+02 / Maximum equivalent gain (e-/ADU)               \n",
       "   SATURATE=   1.603112439229E+03 / Saturation Level (ADU)                         \n",
       "   COMMENT                                                                         \n",
       "   SOFTNAME= 'SWarp   '           / The software that processed those data         \n",
       "   SOFTVERS= '2.38.0  '           / Version of the software                        \n",
       "   SOFTDATE= '2017-01-17'         / Release date of the software                   \n",
       "   SOFTAUTH= '2010-2012 IAP/CNRS/UPMC' / Maintainer of the software                \n",
       "   SOFTINST= 'IAP  http://www.iap.fr' / Institute                                  \n",
       "   COMMENT                                                                         \n",
       "   AUTHOR  = 'jype    '           / Who ran the software                           \n",
       "   ORIGIN  = 't80s-jype4'         / Where it was done                              \n",
       "   DATE    = '2019-03-29T20:45:05' / When it was started (GMT)                     \n",
       "   COMBINET= 'WEIGHTED'           / COMBINE_TYPE config parameter for SWarp        \n",
       "   COMMENT                                                                         \n",
       "   COMMENT  Propagated FITS keywords                                               \n",
       "   OBJECT  = 'SPLUS-s28s34'       / name of observed object                        \n",
       "   TELESCOP= 'T80     '           / Telescope Model                                \n",
       "   INSTRUME= 'T80Cam  '           / Custom. Name of instrument                     \n",
       "   FILTER  = 'R       '           / Filter used for this observation               \n",
       "   COMMENT                                                                         \n",
       "   COMMENT  Axis-dependent config parameters                                       \n",
       "   RESAMPT1= 'LANCZOS3'           / RESAMPLING_TYPE config parameter               \n",
       "   CENTERT1= 'MANUAL  '           / CENTER_TYPE config parameter                   \n",
       "   PSCALET1= 'MANUAL  '           / PIXELSCALE_TYPE config parameter               \n",
       "   RESAMPT2= 'LANCZOS3'           / RESAMPLING_TYPE config parameter               \n",
       "   CENTERT2= 'MANUAL  '           / CENTER_TYPE config parameter                   \n",
       "   PSCALET2= 'MANUAL  '           / PIXELSCALE_TYPE config parameter               \n",
       "           STATS 2019-03-29T17:45:15.621765                                        \n",
       "   HIERARCH OAJ QC NCMODE = 0.0 / Mode (ADU)                                       \n",
       "   HIERARCH OAJ QC NCMIDPT = 0.0 / Level estim (ADU)                               \n",
       "   HIERARCH OAJ QC NCMIDRMS = 0.0055 / rms level (ADU)                             \n",
       "   HIERARCH OAJ QC NCNOISE = 0.1802 / Noise estim (ADU)                            \n",
       "   HIERARCH OAJ QC NCNOIRMS = 0.009299999999999999 / rms noise estim (ADU)         \n",
       "           FWHM ESTIM 2019-03-29T17:45:40.729357                                   \n",
       "   HIERARCH OAJ PRO FWHMSEXT = 1.783 / FWHM arcsec estimated with SE               \n",
       "   HIERARCH OAJ PRO FWHMSRMS = 0.108 / rms in FWHM with SE                         \n",
       "   HIERARCH OAJ PRO FWHMMEAN = 1.640341997146607 / PSFex FWHM                      \n",
       "   HIERARCH OAJ PRO FWHMBETA = 2.927279949188232 / PSFex beta                      \n",
       "   HIERARCH OAJ PRO FWHMnstars = 408 / PSFex nstars                                \n",
       "   HIERARCH OAJ PRO Ellipmean = 0.02356320060789585 / PSFex Ellip                  \n",
       "   PIXSCALE=                 0.55                                                  \n",
       "   FILENAME= 'SPLUS-s28s34_R_swp.fits'                                             \n",
       "   NCOMBINE=                    3                                                  \n",
       "   TEXPOSED=                120.0                                                  \n",
       "   EFECTIME=    119.6285565182266                                                  \n",
       "   TEXPSUM =                120.0 / Maximum equivalent exposure time (s)           \n",
       "   HIERARCH OAJ PRO PIPVERS = '0.9.9   '                                           \n",
       "   HIERARCH OAJ PRO REFIMAGE = 'SPLUS-20181019-064319_proc' / Reference image for s\n",
       "   HIERARCH OAJ PRO REFAIRMASS = 1.005896380650128 / Reference image airmass       \n",
       "   HIERARCH OAJ PRO REFDATEOBS = '2018-10-19T06:42:15.668000' / Reference image dat\n",
       "   HIERARCH OAJ PRO SWCMB1 = 'SPLUS-20181019-064039_proc'                          \n",
       "   HIERARCH OAJ PRO SWSCALE1 = 0.02500526803915                                    \n",
       "   HIERARCH OAJ PRO SWCMB2 = 'SPLUS-20181019-064159_proc'                          \n",
       "   HIERARCH OAJ PRO SWSCALE2 = 0.02494600020134                                    \n",
       "   HIERARCH OAJ PRO SWCMB3 = 'SPLUS-20181019-064319_proc'                          \n",
       "   HIERARCH OAJ PRO SWSCALE3 = 0.02485963616625                                    \n",
       "   HISTORY Image was compressed by CFITSIO using scaled integer quantization:      \n",
       "   HISTORY   q = 4.000000 / quantized level scaling parameter                      \n",
       "   HISTORY 'SUBTRACTIVE_DITHER_1' / Pixel Quantization Algorithm                   \n",
       "   ZDITHER0=                 2588 / dithering offset when quantizing floats        \n",
       "   CHECKSUM= 'mLTknLTkmLTkmLTk'   / HDU checksum updated 2019-03-29T17:47:09       \n",
       "   DATASUM = '1520388348'         / data unit checksum updated 2019-03-29T17:47:17 )]}"
      ]
     },
     "execution_count": 6,
     "metadata": {},
     "output_type": "execute_result"
    }
   ],
   "source": [
    "masked"
   ]
  },
  {
   "cell_type": "code",
   "execution_count": 12,
   "id": "97ce110d",
   "metadata": {
    "ExecuteTime": {
     "end_time": "2023-01-31T04:09:25.942844Z",
     "start_time": "2023-01-31T04:09:25.592682Z"
    }
   },
   "outputs": [
    {
     "ename": "TypeError",
     "evalue": "Image data of dtype <U18 cannot be converted to float",
     "output_type": "error",
     "traceback": [
      "\u001b[0;31m---------------------------------------------------------------------------\u001b[0m",
      "\u001b[0;31mTypeError\u001b[0m                                 Traceback (most recent call last)",
      "Cell \u001b[0;32mIn [12], line 1\u001b[0m\n\u001b[0;32m----> 1\u001b[0m \u001b[43mplt\u001b[49m\u001b[38;5;241;43m.\u001b[39;49m\u001b[43mimshow\u001b[49m\u001b[43m(\u001b[49m\u001b[43mmasked\u001b[49m\u001b[43m[\u001b[49m\u001b[38;5;124;43m'\u001b[39;49m\u001b[38;5;124;43mSPLUS-s28s34\u001b[39;49m\u001b[38;5;124;43m'\u001b[39;49m\u001b[43m]\u001b[49m\u001b[43m[\u001b[49m\u001b[38;5;241;43m0\u001b[39;49m\u001b[43m]\u001b[49m\u001b[43m[\u001b[49m\u001b[38;5;241;43m1\u001b[39;49m\u001b[43m]\u001b[49m\u001b[43m,\u001b[49m\u001b[43m \u001b[49m\u001b[43mcmap\u001b[49m\u001b[38;5;241;43m=\u001b[39;49m\u001b[38;5;124;43m\"\u001b[39;49m\u001b[38;5;124;43mgray_r\u001b[39;49m\u001b[38;5;124;43m\"\u001b[39;49m\u001b[43m)\u001b[49m\n",
      "File \u001b[0;32m~/GitHub/masking/env/lib/python3.10/site-packages/matplotlib/_api/deprecation.py:454\u001b[0m, in \u001b[0;36mmake_keyword_only.<locals>.wrapper\u001b[0;34m(*args, **kwargs)\u001b[0m\n\u001b[1;32m    448\u001b[0m \u001b[38;5;28;01mif\u001b[39;00m \u001b[38;5;28mlen\u001b[39m(args) \u001b[38;5;241m>\u001b[39m name_idx:\n\u001b[1;32m    449\u001b[0m     warn_deprecated(\n\u001b[1;32m    450\u001b[0m         since, message\u001b[38;5;241m=\u001b[39m\u001b[38;5;124m\"\u001b[39m\u001b[38;5;124mPassing the \u001b[39m\u001b[38;5;132;01m%(name)s\u001b[39;00m\u001b[38;5;124m \u001b[39m\u001b[38;5;132;01m%(obj_type)s\u001b[39;00m\u001b[38;5;124m \u001b[39m\u001b[38;5;124m\"\u001b[39m\n\u001b[1;32m    451\u001b[0m         \u001b[38;5;124m\"\u001b[39m\u001b[38;5;124mpositionally is deprecated since Matplotlib \u001b[39m\u001b[38;5;132;01m%(since)s\u001b[39;00m\u001b[38;5;124m; the \u001b[39m\u001b[38;5;124m\"\u001b[39m\n\u001b[1;32m    452\u001b[0m         \u001b[38;5;124m\"\u001b[39m\u001b[38;5;124mparameter will become keyword-only \u001b[39m\u001b[38;5;132;01m%(removal)s\u001b[39;00m\u001b[38;5;124m.\u001b[39m\u001b[38;5;124m\"\u001b[39m,\n\u001b[1;32m    453\u001b[0m         name\u001b[38;5;241m=\u001b[39mname, obj_type\u001b[38;5;241m=\u001b[39m\u001b[38;5;124mf\u001b[39m\u001b[38;5;124m\"\u001b[39m\u001b[38;5;124mparameter of \u001b[39m\u001b[38;5;132;01m{\u001b[39;00mfunc\u001b[38;5;241m.\u001b[39m\u001b[38;5;18m__name__\u001b[39m\u001b[38;5;132;01m}\u001b[39;00m\u001b[38;5;124m()\u001b[39m\u001b[38;5;124m\"\u001b[39m)\n\u001b[0;32m--> 454\u001b[0m \u001b[38;5;28;01mreturn\u001b[39;00m \u001b[43mfunc\u001b[49m\u001b[43m(\u001b[49m\u001b[38;5;241;43m*\u001b[39;49m\u001b[43margs\u001b[49m\u001b[43m,\u001b[49m\u001b[43m \u001b[49m\u001b[38;5;241;43m*\u001b[39;49m\u001b[38;5;241;43m*\u001b[39;49m\u001b[43mkwargs\u001b[49m\u001b[43m)\u001b[49m\n",
      "File \u001b[0;32m~/GitHub/masking/env/lib/python3.10/site-packages/matplotlib/pyplot.py:2623\u001b[0m, in \u001b[0;36mimshow\u001b[0;34m(X, cmap, norm, aspect, interpolation, alpha, vmin, vmax, origin, extent, interpolation_stage, filternorm, filterrad, resample, url, data, **kwargs)\u001b[0m\n\u001b[1;32m   2617\u001b[0m \u001b[38;5;129m@_copy_docstring_and_deprecators\u001b[39m(Axes\u001b[38;5;241m.\u001b[39mimshow)\n\u001b[1;32m   2618\u001b[0m \u001b[38;5;28;01mdef\u001b[39;00m \u001b[38;5;21mimshow\u001b[39m(\n\u001b[1;32m   2619\u001b[0m         X, cmap\u001b[38;5;241m=\u001b[39m\u001b[38;5;28;01mNone\u001b[39;00m, norm\u001b[38;5;241m=\u001b[39m\u001b[38;5;28;01mNone\u001b[39;00m, aspect\u001b[38;5;241m=\u001b[39m\u001b[38;5;28;01mNone\u001b[39;00m, interpolation\u001b[38;5;241m=\u001b[39m\u001b[38;5;28;01mNone\u001b[39;00m,\n\u001b[1;32m   2620\u001b[0m         alpha\u001b[38;5;241m=\u001b[39m\u001b[38;5;28;01mNone\u001b[39;00m, vmin\u001b[38;5;241m=\u001b[39m\u001b[38;5;28;01mNone\u001b[39;00m, vmax\u001b[38;5;241m=\u001b[39m\u001b[38;5;28;01mNone\u001b[39;00m, origin\u001b[38;5;241m=\u001b[39m\u001b[38;5;28;01mNone\u001b[39;00m, extent\u001b[38;5;241m=\u001b[39m\u001b[38;5;28;01mNone\u001b[39;00m, \u001b[38;5;241m*\u001b[39m,\n\u001b[1;32m   2621\u001b[0m         interpolation_stage\u001b[38;5;241m=\u001b[39m\u001b[38;5;28;01mNone\u001b[39;00m, filternorm\u001b[38;5;241m=\u001b[39m\u001b[38;5;28;01mTrue\u001b[39;00m, filterrad\u001b[38;5;241m=\u001b[39m\u001b[38;5;241m4.0\u001b[39m,\n\u001b[1;32m   2622\u001b[0m         resample\u001b[38;5;241m=\u001b[39m\u001b[38;5;28;01mNone\u001b[39;00m, url\u001b[38;5;241m=\u001b[39m\u001b[38;5;28;01mNone\u001b[39;00m, data\u001b[38;5;241m=\u001b[39m\u001b[38;5;28;01mNone\u001b[39;00m, \u001b[38;5;241m*\u001b[39m\u001b[38;5;241m*\u001b[39mkwargs):\n\u001b[0;32m-> 2623\u001b[0m     __ret \u001b[38;5;241m=\u001b[39m \u001b[43mgca\u001b[49m\u001b[43m(\u001b[49m\u001b[43m)\u001b[49m\u001b[38;5;241;43m.\u001b[39;49m\u001b[43mimshow\u001b[49m\u001b[43m(\u001b[49m\n\u001b[1;32m   2624\u001b[0m \u001b[43m        \u001b[49m\u001b[43mX\u001b[49m\u001b[43m,\u001b[49m\u001b[43m \u001b[49m\u001b[43mcmap\u001b[49m\u001b[38;5;241;43m=\u001b[39;49m\u001b[43mcmap\u001b[49m\u001b[43m,\u001b[49m\u001b[43m \u001b[49m\u001b[43mnorm\u001b[49m\u001b[38;5;241;43m=\u001b[39;49m\u001b[43mnorm\u001b[49m\u001b[43m,\u001b[49m\u001b[43m \u001b[49m\u001b[43maspect\u001b[49m\u001b[38;5;241;43m=\u001b[39;49m\u001b[43maspect\u001b[49m\u001b[43m,\u001b[49m\n\u001b[1;32m   2625\u001b[0m \u001b[43m        \u001b[49m\u001b[43minterpolation\u001b[49m\u001b[38;5;241;43m=\u001b[39;49m\u001b[43minterpolation\u001b[49m\u001b[43m,\u001b[49m\u001b[43m \u001b[49m\u001b[43malpha\u001b[49m\u001b[38;5;241;43m=\u001b[39;49m\u001b[43malpha\u001b[49m\u001b[43m,\u001b[49m\u001b[43m \u001b[49m\u001b[43mvmin\u001b[49m\u001b[38;5;241;43m=\u001b[39;49m\u001b[43mvmin\u001b[49m\u001b[43m,\u001b[49m\n\u001b[1;32m   2626\u001b[0m \u001b[43m        \u001b[49m\u001b[43mvmax\u001b[49m\u001b[38;5;241;43m=\u001b[39;49m\u001b[43mvmax\u001b[49m\u001b[43m,\u001b[49m\u001b[43m \u001b[49m\u001b[43morigin\u001b[49m\u001b[38;5;241;43m=\u001b[39;49m\u001b[43morigin\u001b[49m\u001b[43m,\u001b[49m\u001b[43m \u001b[49m\u001b[43mextent\u001b[49m\u001b[38;5;241;43m=\u001b[39;49m\u001b[43mextent\u001b[49m\u001b[43m,\u001b[49m\n\u001b[1;32m   2627\u001b[0m \u001b[43m        \u001b[49m\u001b[43minterpolation_stage\u001b[49m\u001b[38;5;241;43m=\u001b[39;49m\u001b[43minterpolation_stage\u001b[49m\u001b[43m,\u001b[49m\n\u001b[1;32m   2628\u001b[0m \u001b[43m        \u001b[49m\u001b[43mfilternorm\u001b[49m\u001b[38;5;241;43m=\u001b[39;49m\u001b[43mfilternorm\u001b[49m\u001b[43m,\u001b[49m\u001b[43m \u001b[49m\u001b[43mfilterrad\u001b[49m\u001b[38;5;241;43m=\u001b[39;49m\u001b[43mfilterrad\u001b[49m\u001b[43m,\u001b[49m\u001b[43m \u001b[49m\u001b[43mresample\u001b[49m\u001b[38;5;241;43m=\u001b[39;49m\u001b[43mresample\u001b[49m\u001b[43m,\u001b[49m\n\u001b[1;32m   2629\u001b[0m \u001b[43m        \u001b[49m\u001b[43murl\u001b[49m\u001b[38;5;241;43m=\u001b[39;49m\u001b[43murl\u001b[49m\u001b[43m,\u001b[49m\u001b[43m \u001b[49m\u001b[38;5;241;43m*\u001b[39;49m\u001b[38;5;241;43m*\u001b[39;49m\u001b[43m(\u001b[49m\u001b[43m{\u001b[49m\u001b[38;5;124;43m\"\u001b[39;49m\u001b[38;5;124;43mdata\u001b[39;49m\u001b[38;5;124;43m\"\u001b[39;49m\u001b[43m:\u001b[49m\u001b[43m \u001b[49m\u001b[43mdata\u001b[49m\u001b[43m}\u001b[49m\u001b[43m \u001b[49m\u001b[38;5;28;43;01mif\u001b[39;49;00m\u001b[43m \u001b[49m\u001b[43mdata\u001b[49m\u001b[43m \u001b[49m\u001b[38;5;129;43;01mis\u001b[39;49;00m\u001b[43m \u001b[49m\u001b[38;5;129;43;01mnot\u001b[39;49;00m\u001b[43m \u001b[49m\u001b[38;5;28;43;01mNone\u001b[39;49;00m\u001b[43m \u001b[49m\u001b[38;5;28;43;01melse\u001b[39;49;00m\u001b[43m \u001b[49m\u001b[43m{\u001b[49m\u001b[43m}\u001b[49m\u001b[43m)\u001b[49m\u001b[43m,\u001b[49m\n\u001b[1;32m   2630\u001b[0m \u001b[43m        \u001b[49m\u001b[38;5;241;43m*\u001b[39;49m\u001b[38;5;241;43m*\u001b[39;49m\u001b[43mkwargs\u001b[49m\u001b[43m)\u001b[49m\n\u001b[1;32m   2631\u001b[0m     sci(__ret)\n\u001b[1;32m   2632\u001b[0m     \u001b[38;5;28;01mreturn\u001b[39;00m __ret\n",
      "File \u001b[0;32m~/GitHub/masking/env/lib/python3.10/site-packages/matplotlib/_api/deprecation.py:454\u001b[0m, in \u001b[0;36mmake_keyword_only.<locals>.wrapper\u001b[0;34m(*args, **kwargs)\u001b[0m\n\u001b[1;32m    448\u001b[0m \u001b[38;5;28;01mif\u001b[39;00m \u001b[38;5;28mlen\u001b[39m(args) \u001b[38;5;241m>\u001b[39m name_idx:\n\u001b[1;32m    449\u001b[0m     warn_deprecated(\n\u001b[1;32m    450\u001b[0m         since, message\u001b[38;5;241m=\u001b[39m\u001b[38;5;124m\"\u001b[39m\u001b[38;5;124mPassing the \u001b[39m\u001b[38;5;132;01m%(name)s\u001b[39;00m\u001b[38;5;124m \u001b[39m\u001b[38;5;132;01m%(obj_type)s\u001b[39;00m\u001b[38;5;124m \u001b[39m\u001b[38;5;124m\"\u001b[39m\n\u001b[1;32m    451\u001b[0m         \u001b[38;5;124m\"\u001b[39m\u001b[38;5;124mpositionally is deprecated since Matplotlib \u001b[39m\u001b[38;5;132;01m%(since)s\u001b[39;00m\u001b[38;5;124m; the \u001b[39m\u001b[38;5;124m\"\u001b[39m\n\u001b[1;32m    452\u001b[0m         \u001b[38;5;124m\"\u001b[39m\u001b[38;5;124mparameter will become keyword-only \u001b[39m\u001b[38;5;132;01m%(removal)s\u001b[39;00m\u001b[38;5;124m.\u001b[39m\u001b[38;5;124m\"\u001b[39m,\n\u001b[1;32m    453\u001b[0m         name\u001b[38;5;241m=\u001b[39mname, obj_type\u001b[38;5;241m=\u001b[39m\u001b[38;5;124mf\u001b[39m\u001b[38;5;124m\"\u001b[39m\u001b[38;5;124mparameter of \u001b[39m\u001b[38;5;132;01m{\u001b[39;00mfunc\u001b[38;5;241m.\u001b[39m\u001b[38;5;18m__name__\u001b[39m\u001b[38;5;132;01m}\u001b[39;00m\u001b[38;5;124m()\u001b[39m\u001b[38;5;124m\"\u001b[39m)\n\u001b[0;32m--> 454\u001b[0m \u001b[38;5;28;01mreturn\u001b[39;00m \u001b[43mfunc\u001b[49m\u001b[43m(\u001b[49m\u001b[38;5;241;43m*\u001b[39;49m\u001b[43margs\u001b[49m\u001b[43m,\u001b[49m\u001b[43m \u001b[49m\u001b[38;5;241;43m*\u001b[39;49m\u001b[38;5;241;43m*\u001b[39;49m\u001b[43mkwargs\u001b[49m\u001b[43m)\u001b[49m\n",
      "File \u001b[0;32m~/GitHub/masking/env/lib/python3.10/site-packages/matplotlib/__init__.py:1423\u001b[0m, in \u001b[0;36m_preprocess_data.<locals>.inner\u001b[0;34m(ax, data, *args, **kwargs)\u001b[0m\n\u001b[1;32m   1420\u001b[0m \u001b[38;5;129m@functools\u001b[39m\u001b[38;5;241m.\u001b[39mwraps(func)\n\u001b[1;32m   1421\u001b[0m \u001b[38;5;28;01mdef\u001b[39;00m \u001b[38;5;21minner\u001b[39m(ax, \u001b[38;5;241m*\u001b[39margs, data\u001b[38;5;241m=\u001b[39m\u001b[38;5;28;01mNone\u001b[39;00m, \u001b[38;5;241m*\u001b[39m\u001b[38;5;241m*\u001b[39mkwargs):\n\u001b[1;32m   1422\u001b[0m     \u001b[38;5;28;01mif\u001b[39;00m data \u001b[38;5;129;01mis\u001b[39;00m \u001b[38;5;28;01mNone\u001b[39;00m:\n\u001b[0;32m-> 1423\u001b[0m         \u001b[38;5;28;01mreturn\u001b[39;00m \u001b[43mfunc\u001b[49m\u001b[43m(\u001b[49m\u001b[43max\u001b[49m\u001b[43m,\u001b[49m\u001b[43m \u001b[49m\u001b[38;5;241;43m*\u001b[39;49m\u001b[38;5;28;43mmap\u001b[39;49m\u001b[43m(\u001b[49m\u001b[43msanitize_sequence\u001b[49m\u001b[43m,\u001b[49m\u001b[43m \u001b[49m\u001b[43margs\u001b[49m\u001b[43m)\u001b[49m\u001b[43m,\u001b[49m\u001b[43m \u001b[49m\u001b[38;5;241;43m*\u001b[39;49m\u001b[38;5;241;43m*\u001b[39;49m\u001b[43mkwargs\u001b[49m\u001b[43m)\u001b[49m\n\u001b[1;32m   1425\u001b[0m     bound \u001b[38;5;241m=\u001b[39m new_sig\u001b[38;5;241m.\u001b[39mbind(ax, \u001b[38;5;241m*\u001b[39margs, \u001b[38;5;241m*\u001b[39m\u001b[38;5;241m*\u001b[39mkwargs)\n\u001b[1;32m   1426\u001b[0m     auto_label \u001b[38;5;241m=\u001b[39m (bound\u001b[38;5;241m.\u001b[39marguments\u001b[38;5;241m.\u001b[39mget(label_namer)\n\u001b[1;32m   1427\u001b[0m                   \u001b[38;5;129;01mor\u001b[39;00m bound\u001b[38;5;241m.\u001b[39mkwargs\u001b[38;5;241m.\u001b[39mget(label_namer))\n",
      "File \u001b[0;32m~/GitHub/masking/env/lib/python3.10/site-packages/matplotlib/axes/_axes.py:5604\u001b[0m, in \u001b[0;36mAxes.imshow\u001b[0;34m(self, X, cmap, norm, aspect, interpolation, alpha, vmin, vmax, origin, extent, interpolation_stage, filternorm, filterrad, resample, url, **kwargs)\u001b[0m\n\u001b[1;32m   5596\u001b[0m \u001b[38;5;28mself\u001b[39m\u001b[38;5;241m.\u001b[39mset_aspect(aspect)\n\u001b[1;32m   5597\u001b[0m im \u001b[38;5;241m=\u001b[39m mimage\u001b[38;5;241m.\u001b[39mAxesImage(\u001b[38;5;28mself\u001b[39m, cmap\u001b[38;5;241m=\u001b[39mcmap, norm\u001b[38;5;241m=\u001b[39mnorm,\n\u001b[1;32m   5598\u001b[0m                       interpolation\u001b[38;5;241m=\u001b[39minterpolation, origin\u001b[38;5;241m=\u001b[39morigin,\n\u001b[1;32m   5599\u001b[0m                       extent\u001b[38;5;241m=\u001b[39mextent, filternorm\u001b[38;5;241m=\u001b[39mfilternorm,\n\u001b[1;32m   5600\u001b[0m                       filterrad\u001b[38;5;241m=\u001b[39mfilterrad, resample\u001b[38;5;241m=\u001b[39mresample,\n\u001b[1;32m   5601\u001b[0m                       interpolation_stage\u001b[38;5;241m=\u001b[39minterpolation_stage,\n\u001b[1;32m   5602\u001b[0m                       \u001b[38;5;241m*\u001b[39m\u001b[38;5;241m*\u001b[39mkwargs)\n\u001b[0;32m-> 5604\u001b[0m \u001b[43mim\u001b[49m\u001b[38;5;241;43m.\u001b[39;49m\u001b[43mset_data\u001b[49m\u001b[43m(\u001b[49m\u001b[43mX\u001b[49m\u001b[43m)\u001b[49m\n\u001b[1;32m   5605\u001b[0m im\u001b[38;5;241m.\u001b[39mset_alpha(alpha)\n\u001b[1;32m   5606\u001b[0m \u001b[38;5;28;01mif\u001b[39;00m im\u001b[38;5;241m.\u001b[39mget_clip_path() \u001b[38;5;129;01mis\u001b[39;00m \u001b[38;5;28;01mNone\u001b[39;00m:\n\u001b[1;32m   5607\u001b[0m     \u001b[38;5;66;03m# image does not already have clipping set, clip to axes patch\u001b[39;00m\n",
      "File \u001b[0;32m~/GitHub/masking/env/lib/python3.10/site-packages/matplotlib/image.py:701\u001b[0m, in \u001b[0;36m_ImageBase.set_data\u001b[0;34m(self, A)\u001b[0m\n\u001b[1;32m    697\u001b[0m \u001b[38;5;28mself\u001b[39m\u001b[38;5;241m.\u001b[39m_A \u001b[38;5;241m=\u001b[39m cbook\u001b[38;5;241m.\u001b[39msafe_masked_invalid(A, copy\u001b[38;5;241m=\u001b[39m\u001b[38;5;28;01mTrue\u001b[39;00m)\n\u001b[1;32m    699\u001b[0m \u001b[38;5;28;01mif\u001b[39;00m (\u001b[38;5;28mself\u001b[39m\u001b[38;5;241m.\u001b[39m_A\u001b[38;5;241m.\u001b[39mdtype \u001b[38;5;241m!=\u001b[39m np\u001b[38;5;241m.\u001b[39muint8 \u001b[38;5;129;01mand\u001b[39;00m\n\u001b[1;32m    700\u001b[0m         \u001b[38;5;129;01mnot\u001b[39;00m np\u001b[38;5;241m.\u001b[39mcan_cast(\u001b[38;5;28mself\u001b[39m\u001b[38;5;241m.\u001b[39m_A\u001b[38;5;241m.\u001b[39mdtype, \u001b[38;5;28mfloat\u001b[39m, \u001b[38;5;124m\"\u001b[39m\u001b[38;5;124msame_kind\u001b[39m\u001b[38;5;124m\"\u001b[39m)):\n\u001b[0;32m--> 701\u001b[0m     \u001b[38;5;28;01mraise\u001b[39;00m \u001b[38;5;167;01mTypeError\u001b[39;00m(\u001b[38;5;124m\"\u001b[39m\u001b[38;5;124mImage data of dtype \u001b[39m\u001b[38;5;132;01m{}\u001b[39;00m\u001b[38;5;124m cannot be converted to \u001b[39m\u001b[38;5;124m\"\u001b[39m\n\u001b[1;32m    702\u001b[0m                     \u001b[38;5;124m\"\u001b[39m\u001b[38;5;124mfloat\u001b[39m\u001b[38;5;124m\"\u001b[39m\u001b[38;5;241m.\u001b[39mformat(\u001b[38;5;28mself\u001b[39m\u001b[38;5;241m.\u001b[39m_A\u001b[38;5;241m.\u001b[39mdtype))\n\u001b[1;32m    704\u001b[0m \u001b[38;5;28;01mif\u001b[39;00m \u001b[38;5;28mself\u001b[39m\u001b[38;5;241m.\u001b[39m_A\u001b[38;5;241m.\u001b[39mndim \u001b[38;5;241m==\u001b[39m \u001b[38;5;241m3\u001b[39m \u001b[38;5;129;01mand\u001b[39;00m \u001b[38;5;28mself\u001b[39m\u001b[38;5;241m.\u001b[39m_A\u001b[38;5;241m.\u001b[39mshape[\u001b[38;5;241m-\u001b[39m\u001b[38;5;241m1\u001b[39m] \u001b[38;5;241m==\u001b[39m \u001b[38;5;241m1\u001b[39m:\n\u001b[1;32m    705\u001b[0m     \u001b[38;5;66;03m# If just one dimension assume scalar and apply colormap\u001b[39;00m\n\u001b[1;32m    706\u001b[0m     \u001b[38;5;28mself\u001b[39m\u001b[38;5;241m.\u001b[39m_A \u001b[38;5;241m=\u001b[39m \u001b[38;5;28mself\u001b[39m\u001b[38;5;241m.\u001b[39m_A[:, :, \u001b[38;5;241m0\u001b[39m]\n",
      "\u001b[0;31mTypeError\u001b[0m: Image data of dtype <U18 cannot be converted to float"
     ]
    },
    {
     "data": {
      "image/png": "[encoded data removed]",
      "text/plain": [
       "<Figure size 640x480 with 1 Axes>"
      ]
     },
     "metadata": {},
     "output_type": "display_data"
    }
   ],
   "source": [
    "plt.imshow(masked['SPLUS-s28s34'][0][0], cmap=\"gray_r\")"
   ]
  },
  {
   "cell_type": "code",
   "execution_count": 15,
   "id": "91c7e0c1",
   "metadata": {
    "ExecuteTime": {
     "end_time": "2023-01-31T04:09:41.325641Z",
     "start_time": "2023-01-31T04:09:41.205328Z"
    }
   },
   "outputs": [
    {
     "data": {
      "text/plain": [
       "-4.250126838684082"
      ]
     },
     "execution_count": 15,
     "metadata": {},
     "output_type": "execute_result"
    }
   ],
   "source": [
    "masked['SPLUS-s28s34'][0][0].min()"
   ]
  },
  {
   "cell_type": "code",
   "execution_count": null,
   "id": "7db5233f",
   "metadata": {},
   "outputs": [],
   "source": [
    "\n",
    "logger.info(\"Saving masked files ...\")\n",
    "for f,m in masked.items():\n",
    "    for data,band in zip(m,BANDS_TO_RGB):\n",
    "        savep = DATA_DIR + f + f\"_{band}_masked.fits\"\n",
    "        logger.info(f\"Saving data to: \" + savep)\n",
    "        fits.writeto(DATA_DIR + f + f\"_{band}_masked.fits\", data[0], data[1], overwrite = True) \n",
    "        plt.imsave(IMAGES_DIR + f + f'_{band}.png',arr=data[0][:,:,0] , cmap='gray_r')\n",
    "\n",
    "logger.info(\"Saving RGB images ...\")\n",
    "for img,field in zip(imgs,fields):\n",
    "    np.savez(IMAGES_DIR + f'{field}_rgb.npz', img = img) \n",
    "    plt.imsave(IMAGES_DIR + f'{field}.png',arr=img[:,:,0] , cmap='gray_r')"
   ]
  }
 ],
 "metadata": {
  "kernelspec": {
   "display_name": "env",
   "language": "python",
   "name": "env"
  },
  "language_info": {
   "codemirror_mode": {
    "name": "ipython",
    "version": 3
   },
   "file_extension": ".py",
   "mimetype": "text/x-python",
   "name": "python",
   "nbconvert_exporter": "python",
   "pygments_lexer": "ipython3",
   "version": "3.10.6"
  },
  "toc": {
   "base_numbering": 1,
   "nav_menu": {},
   "number_sections": true,
   "sideBar": true,
   "skip_h1_title": false,
   "title_cell": "Table of Contents",
   "title_sidebar": "Contents",
   "toc_cell": false,
   "toc_position": {},
   "toc_section_display": true,
   "toc_window_display": false
  }
 },
 "nbformat": 4,
 "nbformat_minor": 5
}
