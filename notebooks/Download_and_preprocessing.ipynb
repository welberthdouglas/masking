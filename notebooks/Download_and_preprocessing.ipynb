{
 "cells": [
  {
   "cell_type": "markdown",
   "metadata": {
    "ExecuteTime": {
     "end_time": "2022-03-03T23:51:10.450042Z",
     "start_time": "2022-03-03T23:51:10.376439Z"
    }
   },
   "source": [
    "# TODO\n",
    "    -> add in fits processing a save of png files with transformations to make LSB galaxies pop up.\n",
    "       ^ maybe do this after aplying the filter? LSBs might be more visible then\n",
    "    "
   ]
  },
  {
   "cell_type": "markdown",
   "metadata": {},
   "source": [
    "# Imports"
   ]
  },
  {
   "cell_type": "code",
   "execution_count": 1,
   "metadata": {
    "ExecuteTime": {
     "end_time": "2023-01-28T22:08:31.975290Z",
     "start_time": "2023-01-28T22:08:30.477561Z"
    }
   },
   "outputs": [],
   "source": [
    "import logging\n",
    "import sys\n",
    "\n",
    "from img_processing import fits2rgb_processing\n",
    "from utils import download_fields\n",
    "from config import FIELDS, DATA_DIR, IMAGES_DIR\n",
    "\n",
    "file_handler = logging.FileHandler(filename=\"log.log\", mode = \"w\")\n",
    "stdout_handler = logging.StreamHandler(stream=sys.stdout)\n",
    "logging.basicConfig(level = logging.INFO,\n",
    "                    format=\"%(asctime)s [%(levelname)s] - %(name)s :%(message)s\",\n",
    "                    datefmt=\"%Y-%m-%d %I:%M:%S %p\",\n",
    "                    handlers=[stdout_handler, file_handler])\n",
    "\n",
    "logger = logging.getLogger(\"__name__\")\n"
   ]
  },
  {
   "cell_type": "markdown",
   "metadata": {},
   "source": [
    "# Download Data\n",
    "\n",
    "Downloading fields images (R, G and I bands) from Splus:\n",
    "- SPLUS-s28s34\n",
    "- STRIPE82-0113"
   ]
  },
  {
   "cell_type": "code",
   "execution_count": 4,
   "metadata": {
    "ExecuteTime": {
     "end_time": "2023-01-28T19:03:19.180288Z",
     "start_time": "2023-01-28T18:59:36.314304Z"
    },
    "run_control": {
     "marked": false
    }
   },
   "outputs": [
    {
     "name": "stdout",
     "output_type": "stream",
     "text": [
      "2023-01-28 01:59:36 PM [INFO] - utils :Establishing connection to Splus ...\n",
      "Login: welberth\n",
      "Password: ········\n",
      "You have access to internal data\n",
      "2023-01-28 01:59:47 PM [INFO] - utils :Downloading fields ...\n"
     ]
    },
    {
     "name": "stderr",
     "output_type": "stream",
     "text": [
      "100%|████████████████████████████████████████████| 2/2 [03:31<00:00, 105.89s/it]\n"
     ]
    }
   ],
   "source": [
    "download_fields(fields = FIELDS, bands = ['R','G','I'], save_path = DATA_DIR)"
   ]
  },
  {
   "cell_type": "markdown",
   "metadata": {
    "ExecuteTime": {
     "end_time": "2022-03-02T23:07:52.478044Z",
     "start_time": "2022-03-02T23:07:50.799722Z"
    }
   },
   "source": [
    "# Image Processing\n",
    "\n",
    "Converts RGI bands to RGB images using the Lupton Transformation and saves the images in the images folder."
   ]
  },
  {
   "cell_type": "code",
   "execution_count": 2,
   "metadata": {
    "ExecuteTime": {
     "end_time": "2023-01-28T22:09:57.920396Z",
     "start_time": "2023-01-28T22:08:34.325543Z"
    },
    "run_control": {
     "marked": false
    }
   },
   "outputs": [
    {
     "name": "stdout",
     "output_type": "stream",
     "text": [
      "2023-01-28 05:08:34 PM [INFO] - img_processing :Processing Fits ...\n"
     ]
    },
    {
     "name": "stderr",
     "output_type": "stream",
     "text": [
      "100%|█████████████████████████████████████████████| 2/2 [01:23<00:00, 41.78s/it]\n"
     ]
    }
   ],
   "source": [
    "fits2rgb_processing(load_path = DATA_DIR, save_path = IMAGES_DIR,Q = 8, stretch = 3, bands = ['R','G','I'])"
   ]
  }
 ],
 "metadata": {
  "kernelspec": {
   "display_name": "env",
   "language": "python",
   "name": "env"
  },
  "language_info": {
   "codemirror_mode": {
    "name": "ipython",
    "version": 3
   },
   "file_extension": ".py",
   "mimetype": "text/x-python",
   "name": "python",
   "nbconvert_exporter": "python",
   "pygments_lexer": "ipython3",
   "version": "3.10.6"
  },
  "toc": {
   "base_numbering": 1,
   "nav_menu": {},
   "number_sections": true,
   "sideBar": true,
   "skip_h1_title": false,
   "title_cell": "Table of Contents",
   "title_sidebar": "Contents",
   "toc_cell": false,
   "toc_position": {
    "height": "calc(100% - 180px)",
    "left": "10px",
    "top": "150px",
    "width": "165px"
   },
   "toc_section_display": true,
   "toc_window_display": true
  }
 },
 "nbformat": 4,
 "nbformat_minor": 4
}
